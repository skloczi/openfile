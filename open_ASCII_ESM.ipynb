{
 "cells": [
  {
   "cell_type": "code",
   "execution_count": 68,
   "metadata": {},
   "outputs": [],
   "source": [
    "import matplotlib.pyplot as plt"
   ]
  },
  {
   "cell_type": "code",
   "execution_count": 69,
   "metadata": {},
   "outputs": [],
   "source": [
    "ascii_file = open(\"/Users/annamaria/PhD/work/Testing/open_files/Data/ASCII_ESM/RF.CARC..HNE.D.IT-2012-0008.ACC.MP.ASC\")"
   ]
  },
  {
   "cell_type": "code",
   "execution_count": 70,
   "metadata": {},
   "outputs": [],
   "source": [
    "row = 0\n",
    "headers = []\n",
    "data = []\n",
    "for line in ascii_file:\n",
    "    rows = line.split()\n",
    "    # accessing headers information\n",
    "    if row <= 64:\n",
    "        headers.append(rows)\n",
    "        row = row +1\n",
    "    # extracting data vector\n",
    "    if row > 64:\n",
    "        data.append(float(rows[0]))\n",
    "        row = row +1"
   ]
  },
  {
   "cell_type": "code",
   "execution_count": 72,
   "metadata": {},
   "outputs": [
    {
     "data": {
      "text/plain": [
       "[<matplotlib.lines.Line2D at 0x7fe8f7809ca0>]"
      ]
     },
     "execution_count": 72,
     "metadata": {},
     "output_type": "execute_result"
    },
    {
     "data": {
      "image/png": "[encoded data removed]",
      "text/plain": [
       "<Figure size 432x288 with 1 Axes>"
      ]
     },
     "metadata": {
      "needs_background": "light"
     },
     "output_type": "display_data"
    }
   ],
   "source": [
    "plt.plot(data)"
   ]
  },
  {
   "cell_type": "code",
   "execution_count": 73,
   "metadata": {},
   "outputs": [
    {
     "data": {
      "text/plain": [
       "[['EVENT_NAME:', 'EMILIA_1ST_SHOCK'],\n",
       " ['EVENT_ID:', 'IT-2012-0008'],\n",
       " ['EVENT_DATE_YYYYMMDD:', '20120520'],\n",
       " ['EVENT_TIME_HHMMSS:', '020350'],\n",
       " ['EVENT_LATITUDE_DEGREE:', '44.8955'],\n",
       " ['EVENT_LONGITUDE_DEGREE:', '11.2635'],\n",
       " ['EVENT_DEPTH_KM:', '9.5'],\n",
       " ['HYPOCENTER_REFERENCE:', 'INGV-CNT_Seismic_Bulletin'],\n",
       " ['MAGNITUDE_W:', '6.1'],\n",
       " ['MAGNITUDE_W_REFERENCE:', 'RCMT-INGV'],\n",
       " ['MAGNITUDE_L:'],\n",
       " ['MAGNITUDE_L_REFERENCE:'],\n",
       " ['FOCAL_MECHANISM:', 'Thrust', 'faulting'],\n",
       " ['NETWORK:', 'RF'],\n",
       " ['STATION_CODE:', 'CARC'],\n",
       " ['STATION_NAME:'],\n",
       " ['STATION_LATITUDE_DEGREE:', '45.652599'],\n",
       " ['STATION_LONGITUDE_DEGREE:', '13.770000'],\n",
       " ['STATION_ELEVATION_M:', '0'],\n",
       " ['LOCATION:'],\n",
       " ['SENSOR_DEPTH_M:'],\n",
       " ['VS30_M/S:'],\n",
       " ['SITE_CLASSIFICATION_EC8:', 'C', '(inferred', 'from', 'geology)'],\n",
       " ['MORPHOLOGIC_CLASSIFICATION:'],\n",
       " ['EPICENTRAL_DISTANCE_KM:', '213.9'],\n",
       " ['EARTHQUAKE_BACKAZIMUTH_DEGREE:', '66.0'],\n",
       " ['DATE_TIME_FIRST_SAMPLE_YYYYMMDD_HHMMSS:', '20120520_020342.000'],\n",
       " ['DATE_TIME_FIRST_SAMPLE_PRECISION:', 'milliseconds'],\n",
       " ['SAMPLING_INTERVAL_S:', '0.005000'],\n",
       " ['NDATA:', '33600'],\n",
       " ['DURATION_S:', '168.000'],\n",
       " ['STREAM:', 'HNE'],\n",
       " ['UNITS:', 'cm/s^2'],\n",
       " ['INSTRUMENT:',\n",
       "  'sensor',\n",
       "  '=',\n",
       "  'Unknown',\n",
       "  '[Unknown]',\n",
       "  '|',\n",
       "  'digitizer',\n",
       "  '=',\n",
       "  'Unknown',\n",
       "  '[Unknown]'],\n",
       " ['INSTRUMENT_ANALOG/DIGITAL:', 'D'],\n",
       " ['INSTRUMENTAL_FREQUENCY_HZ:'],\n",
       " ['INSTRUMENTAL_DAMPING:'],\n",
       " ['FULL_SCALE_G:'],\n",
       " ['N_BIT_DIGITAL_CONVERTER:'],\n",
       " ['PGA_CM/S^2:', '-5.158058'],\n",
       " ['TIME_PGA_S:', '90.520000'],\n",
       " ['BASELINE_CORRECTION:', 'BASELINE', 'REMOVED'],\n",
       " ['FILTER_TYPE:', 'BUTTERWORTH'],\n",
       " ['FILTER_ORDER:', '2'],\n",
       " ['LOW_CUT_FREQUENCY_HZ:', '0.250'],\n",
       " ['HIGH_CUT_FREQUENCY_HZ:', '30.000'],\n",
       " ['LATE/NORMAL_TRIGGERED:', 'NT'],\n",
       " ['DATABASE_VERSION:', '0.5'],\n",
       " ['HEADER_FORMAT:', 'DYNA', '1.2'],\n",
       " ['DATA_TYPE:', 'ACCELERATION'],\n",
       " ['PROCESSING:', 'manual', '(Paolucci', 'et', 'al.,', '2011)'],\n",
       " ['DATA_TIMESTAMP_YYYYMMDD_HHMMSS:', '20201010_200037.917'],\n",
       " ['DATA_LICENSE:', 'U', '(unknown', 'license)'],\n",
       " ['DATA_CITATION:',\n",
       "  'Luzi',\n",
       "  'L,',\n",
       "  'Puglia',\n",
       "  'R,',\n",
       "  'Russo',\n",
       "  'E',\n",
       "  '&',\n",
       "  'ORFEUS',\n",
       "  'WG5',\n",
       "  '(2016).',\n",
       "  'Engineering',\n",
       "  'Strong',\n",
       "  'Motion',\n",
       "  'Database.',\n",
       "  'Istituto',\n",
       "  'Nazionale',\n",
       "  'di',\n",
       "  'Geofisica',\n",
       "  'e',\n",
       "  'Vulcanologia,',\n",
       "  'Observatories',\n",
       "  '&',\n",
       "  'Research',\n",
       "  'Facilities',\n",
       "  'for',\n",
       "  'European',\n",
       "  'Seismology.',\n",
       "  'doi:',\n",
       "  '10.13127/ESM'],\n",
       " ['DATA_CREATOR:', 'ESM', 'working', 'group'],\n",
       " ['ORIGINAL_DATA_MEDIATOR_CITATION:',\n",
       "  'data',\n",
       "  'obtained',\n",
       "  'within',\n",
       "  'the',\n",
       "  'DPC-INGV',\n",
       "  'data',\n",
       "  'exchange',\n",
       "  'agreements'],\n",
       " ['ORIGINAL_DATA_MEDIATOR:',\n",
       "  'Archive',\n",
       "  'of',\n",
       "  'Italian',\n",
       "  'Department',\n",
       "  'of',\n",
       "  'Civil',\n",
       "  'Protection'],\n",
       " ['ORIGINAL_DATA_CREATOR_CITATION:',\n",
       "  'University',\n",
       "  'Of',\n",
       "  'Trieste.',\n",
       "  '(1993).',\n",
       "  'Friuli',\n",
       "  'Venezia',\n",
       "  'Giulia',\n",
       "  'Accelerometric',\n",
       "  'Network.',\n",
       "  'International',\n",
       "  'Federation',\n",
       "  'of',\n",
       "  'Digital',\n",
       "  'Seismograph',\n",
       "  'Networks.',\n",
       "  'https://doi.org/10.7914/SN/RF',\n",
       "  'http://www.fdsn.org/networks/detail/RF/'],\n",
       " ['ORIGINAL_DATA_CREATOR:',\n",
       "  'network:',\n",
       "  'RF',\n",
       "  '(Friuli',\n",
       "  'Venezia',\n",
       "  'Giulia',\n",
       "  'Accelerometric',\n",
       "  'Network',\n",
       "  '(RF));',\n",
       "  'owner:',\n",
       "  'University',\n",
       "  'of',\n",
       "  'Trieste'],\n",
       " ['USER1:'],\n",
       " ['USER2:'],\n",
       " ['USER3:'],\n",
       " ['USER4:'],\n",
       " ['USER5:'],\n",
       " ['0.000000']]"
      ]
     },
     "execution_count": 73,
     "metadata": {},
     "output_type": "execute_result"
    }
   ],
   "source": [
    "headers"
   ]
  },
  {
   "cell_type": "code",
   "execution_count": null,
   "metadata": {},
   "outputs": [],
   "source": []
  }
 ],
 "metadata": {
  "kernelspec": {
   "display_name": "Python 3",
   "language": "python",
   "name": "python3"
  },
  "language_info": {
   "codemirror_mode": {
    "name": "ipython",
    "version": 3
   },
   "file_extension": ".py",
   "mimetype": "text/x-python",
   "name": "python",
   "nbconvert_exporter": "python",
   "pygments_lexer": "ipython3",
   "version": "3.8.6"
  }
 },
 "nbformat": 4,
 "nbformat_minor": 4
}
