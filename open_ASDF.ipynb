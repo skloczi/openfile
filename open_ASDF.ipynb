{
 "cells": [
  {
   "cell_type": "code",
   "execution_count": 1,
   "metadata": {},
   "outputs": [],
   "source": [
    "import pyasdf"
   ]
  },
  {
   "cell_type": "code",
   "execution_count": 18,
   "metadata": {},
   "outputs": [
    {
     "name": "stderr",
     "output_type": "stream",
     "text": [
      "/Users/annamaria/opt/anaconda3/envs/obspy/lib/python3.8/site-packages/pyasdf/asdf_data_set.py:257: ASDFWarning: The file claims an ASDF version of 0.0.2. This version of pyasdf only supports versions: 1.0.0, 1.0.1, 1.0.2, 1.0.3. All following write operations will use version 1.0.3 - other tools might not be able to read the files again - proceed with caution.\n",
      "  warnings.warn(msg, ASDFWarning)\n"
     ]
    }
   ],
   "source": [
    "ds = pyasdf.ASDFDataSet(\"/Users/annamaria/PhD/work/Testing/open_files/Data/ASDF/asdf_example.h5\")"
   ]
  },
  {
   "cell_type": "code",
   "execution_count": 45,
   "metadata": {},
   "outputs": [
    {
     "name": "stdout",
     "output_type": "stream",
     "text": [
      "4 Event(s) in Catalog:\n",
      "1998-09-01T10:29:54.500000Z | -58.500,  -26.100 | 5.5 Mwc\n",
      "2012-04-04T14:21:42.300000Z | +41.818,  +79.689 | 4.4 mb | manual\n",
      "2012-04-04T14:18:37.000000Z | +39.342,  +41.044 | 4.3 ML | manual\n",
      "2012-04-04T14:08:46.000000Z | +38.017,  +37.736 | 3.0 ML | manual\n"
     ]
    },
    {
     "data": {
      "text/plain": [
       "Event:\t1998-09-01T10:29:54.500000Z | -58.500,  -26.100 | 5.5 Mwc\n",
       "\n",
       "\t                  resource_id: ResourceIdentifier(id=\"smi:service.iris.edu/fdsnws/event/1/query?eventid=656970\")\n",
       "\t                   event_type: 'earthquake'\n",
       "\t          preferred_origin_id: ResourceIdentifier(id=\"smi:www.iris.edu/spudservice/momenttensor/gcmtid/B090198B#cmtorigin\")\n",
       "\t preferred_focal_mechanism_id: ResourceIdentifier(id=\"smi:ds.iris.edu/spudservice/momenttensor/gcmtid/B090198B/quakeml#focalmechanism\")\n",
       "\t                         ---------\n",
       "\t           event_descriptions: 1 Elements\n",
       "\t             focal_mechanisms: 1 Elements\n",
       "\t                      origins: 1 Elements\n",
       "\t                   magnitudes: 1 Elements"
      ]
     },
     "execution_count": 45,
     "metadata": {},
     "output_type": "execute_result"
    }
   ],
   "source": [
    "# to read event data - access the *event* attribute\n",
    "print(ds.events)\n",
    "ff = ds.events[0]\n",
    "ff"
   ]
  },
  {
   "cell_type": "code",
   "execution_count": 26,
   "metadata": {},
   "outputs": [
    {
     "data": {
      "text/plain": [
       "['AF.CVNA',\n",
       " 'AF.DODT',\n",
       " 'AF.EKNA',\n",
       " 'AF.GRM',\n",
       " 'AF.HVD',\n",
       " 'AF.IFE',\n",
       " 'AF.LBB',\n",
       " 'AF.MBEY',\n",
       " 'AF.MTVE',\n",
       " 'AF.POGA',\n",
       " 'AF.SHAI',\n",
       " 'AF.SVMA',\n",
       " 'AF.SWZ',\n",
       " 'AF.UPI',\n",
       " 'AF.YNDE',\n",
       " 'AF.ZOMB',\n",
       " 'AI.BELA',\n",
       " 'AI.DSPA',\n",
       " 'AI.ESPZ',\n",
       " 'AI.JUBA',\n",
       " 'AI.ORCD',\n",
       " 'AI.SMAI',\n",
       " 'AU.COEN',\n",
       " 'AU.FORT',\n",
       " 'AU.GIRL',\n",
       " 'AU.GLAD',\n",
       " 'AU.LHI',\n",
       " 'AU.MANU',\n",
       " 'AU.MCQ',\n",
       " 'AU.MOO',\n",
       " 'AU.MTN',\n",
       " 'AU.NIUE',\n",
       " 'AU.NRFK',\n",
       " 'AU.RABL',\n",
       " 'AU.RMQ',\n",
       " 'AU.WRKA',\n",
       " 'AU.XMIS',\n",
       " 'BL.AQDA',\n",
       " 'BL.AQDB',\n",
       " 'BL.AREB',\n",
       " 'BL.BESB',\n",
       " 'BL.CANB',\n",
       " 'BL.CRJB',\n",
       " 'BL.NOVB',\n",
       " 'BL.PDCB',\n",
       " 'BL.PMNB',\n",
       " 'BL.PORB',\n",
       " 'BL.RCLB',\n",
       " 'BL.VABB',\n",
       " 'CB.CAD',\n",
       " 'CB.GTA',\n",
       " 'CB.GZH',\n",
       " 'CB.HEH',\n",
       " 'CB.KSH',\n",
       " 'CB.NAQ',\n",
       " 'CB.TNC',\n",
       " 'CN.ATKO',\n",
       " 'CN.BBB',\n",
       " 'CN.DIB',\n",
       " 'CN.DRLN',\n",
       " 'CN.EUNU',\n",
       " 'CN.FRB',\n",
       " 'CN.ICQ',\n",
       " 'CN.INK',\n",
       " 'CN.LGNH',\n",
       " 'CN.LLLB',\n",
       " 'CN.LMQ',\n",
       " 'CN.MNTQ',\n",
       " 'CN.NATG',\n",
       " 'CN.NBC1',\n",
       " 'CN.PNPO',\n",
       " 'CN.RES',\n",
       " 'CN.SADO',\n",
       " 'CN.SILO',\n",
       " 'CN.SUNO',\n",
       " 'CN.ULM',\n",
       " 'CN.VIMO',\n",
       " 'CN.VLDQ',\n",
       " 'CN.WHY',\n",
       " 'CN.YKAB1',\n",
       " 'CU.ANWB',\n",
       " 'CU.BBGH',\n",
       " 'CU.BCIP',\n",
       " 'CU.GRGR',\n",
       " 'CU.GRTK',\n",
       " 'CU.GTBY',\n",
       " 'CU.MTDJ',\n",
       " 'CU.SDDR',\n",
       " 'CU.TGUH',\n",
       " 'G.AIS',\n",
       " 'G.ATD',\n",
       " 'G.CAN',\n",
       " 'G.CCD',\n",
       " 'G.CLF',\n",
       " 'G.COYC',\n",
       " 'G.CRZF',\n",
       " 'G.DRV',\n",
       " 'G.DZM',\n",
       " 'G.ECH',\n",
       " 'G.FDF',\n",
       " 'G.FOMA',\n",
       " 'G.HDC',\n",
       " 'G.HYB',\n",
       " 'G.INU',\n",
       " 'G.IVI',\n",
       " 'G.KIP',\n",
       " 'G.MBO',\n",
       " 'G.MPG',\n",
       " 'G.NOUC',\n",
       " 'G.PAF',\n",
       " 'G.PEL',\n",
       " 'G.PPTF',\n",
       " 'G.RER',\n",
       " 'G.ROCAM',\n",
       " 'G.RODM',\n",
       " 'G.SANVU',\n",
       " 'G.SPB',\n",
       " 'G.SSB',\n",
       " 'G.TAM',\n",
       " 'G.TAOE',\n",
       " 'G.TRIS',\n",
       " 'G.UNM',\n",
       " 'G.WUS',\n",
       " 'GE.DAG',\n",
       " 'GE.DAMY',\n",
       " 'GE.DSB',\n",
       " 'GE.EIL',\n",
       " 'GE.GHAR',\n",
       " 'GE.MAHO',\n",
       " 'GE.MALT',\n",
       " 'GE.MAUI',\n",
       " 'GE.MELI',\n",
       " 'GE.MORC',\n",
       " 'GE.PSZ',\n",
       " 'GE.PUL',\n",
       " 'GE.RGN',\n",
       " 'GE.SANT',\n",
       " 'GE.SNAA',\n",
       " 'GE.SOCY',\n",
       " 'GE.SUMG',\n",
       " 'GE.TIRR',\n",
       " 'GE.UGM',\n",
       " 'GE.VSU',\n",
       " 'GT.BDFB',\n",
       " 'GT.BGCA',\n",
       " 'GT.BOSA',\n",
       " 'GT.CPUP',\n",
       " 'GT.DBIC',\n",
       " 'GT.LBTB',\n",
       " 'GT.LPAZ',\n",
       " 'GT.PLCA',\n",
       " 'GT.SBA',\n",
       " 'GT.VNDA',\n",
       " 'IC.BJT',\n",
       " 'IC.ENH',\n",
       " 'IC.HIA',\n",
       " 'IC.KMI',\n",
       " 'IC.LSA',\n",
       " 'IC.MDJ',\n",
       " 'IC.QIZ',\n",
       " 'IC.SSE',\n",
       " 'IC.WMQ',\n",
       " 'IC.XAN',\n",
       " 'II.AAK',\n",
       " 'II.ABKT',\n",
       " 'II.ABPO',\n",
       " 'II.ALE',\n",
       " 'II.ARU',\n",
       " 'II.ASCN',\n",
       " 'II.BFO',\n",
       " 'II.BORG',\n",
       " 'II.BRVK',\n",
       " 'II.CMLA',\n",
       " 'II.COCO',\n",
       " 'II.DGAR',\n",
       " 'II.EFI',\n",
       " 'II.ERM',\n",
       " 'II.ESK',\n",
       " 'II.FFC',\n",
       " 'II.GAR',\n",
       " 'II.HOPE',\n",
       " 'II.IASL',\n",
       " 'II.IBFO',\n",
       " 'II.JTS',\n",
       " 'II.KAPI',\n",
       " 'II.KDAK',\n",
       " 'II.KIV',\n",
       " 'II.KURK',\n",
       " 'II.KWAJ',\n",
       " 'II.LVZ',\n",
       " 'II.MBAR',\n",
       " 'II.MSEY',\n",
       " 'II.MSVF',\n",
       " 'II.NIL',\n",
       " 'II.NNA',\n",
       " 'II.NRIL',\n",
       " 'II.OBN',\n",
       " 'II.PALK',\n",
       " 'II.PFO',\n",
       " 'II.RAYN',\n",
       " 'II.RPN',\n",
       " 'II.SACV',\n",
       " 'II.SHEL',\n",
       " 'II.SUR',\n",
       " 'II.TAU',\n",
       " 'II.TLY',\n",
       " 'II.UOSS',\n",
       " 'II.WRAB',\n",
       " 'II.XPFO',\n",
       " 'IU.ADK',\n",
       " 'IU.AFI',\n",
       " 'IU.ANMO',\n",
       " 'IU.ANTO',\n",
       " 'IU.BBSR',\n",
       " 'IU.BILL',\n",
       " 'IU.CASY',\n",
       " 'IU.CCM',\n",
       " 'IU.CHTO',\n",
       " 'IU.COLA',\n",
       " 'IU.COR',\n",
       " 'IU.CTAO',\n",
       " 'IU.DAV',\n",
       " 'IU.DWPF',\n",
       " 'IU.FUNA',\n",
       " 'IU.FURI',\n",
       " 'IU.GNI',\n",
       " 'IU.GRFO',\n",
       " 'IU.GUMO',\n",
       " 'IU.HKT',\n",
       " 'IU.HNR',\n",
       " 'IU.HRV',\n",
       " 'IU.INCN',\n",
       " 'IU.JOHN',\n",
       " 'IU.KBL',\n",
       " 'IU.KBS',\n",
       " 'IU.KEV',\n",
       " 'IU.KIEV',\n",
       " 'IU.KIP',\n",
       " 'IU.KMBO',\n",
       " 'IU.KNTN',\n",
       " 'IU.KONO',\n",
       " 'IU.KOWA',\n",
       " 'IU.LCO',\n",
       " 'IU.LSZ',\n",
       " 'IU.LVC',\n",
       " 'IU.MA2',\n",
       " 'IU.MACI',\n",
       " 'IU.MAJO',\n",
       " 'IU.MAKZ',\n",
       " 'IU.MBWA',\n",
       " 'IU.MIDW',\n",
       " 'IU.MSKU',\n",
       " 'IU.NWAO',\n",
       " 'IU.OTAV',\n",
       " 'IU.PAB',\n",
       " 'IU.PAYG',\n",
       " 'IU.PET',\n",
       " 'IU.PMG',\n",
       " 'IU.PMSA',\n",
       " 'IU.POHA',\n",
       " 'IU.PTCN',\n",
       " 'IU.PTGA',\n",
       " 'IU.QSPA',\n",
       " 'IU.RAO',\n",
       " 'IU.RAR',\n",
       " 'IU.RCBR',\n",
       " 'IU.RSSD',\n",
       " 'IU.SAML',\n",
       " 'IU.SBA',\n",
       " 'IU.SDV',\n",
       " 'IU.SFJD',\n",
       " 'IU.SJG',\n",
       " 'IU.SLBS',\n",
       " 'IU.SNZO',\n",
       " 'IU.SPA',\n",
       " 'IU.SSPA',\n",
       " 'IU.TARA',\n",
       " 'IU.TATO',\n",
       " 'IU.TEIG',\n",
       " 'IU.TIXI',\n",
       " 'IU.TRIS',\n",
       " 'IU.TRQA',\n",
       " 'IU.TSUM',\n",
       " 'IU.TUC',\n",
       " 'IU.ULN',\n",
       " 'IU.WAKE',\n",
       " 'IU.WCI',\n",
       " 'IU.WVT',\n",
       " 'IU.XMAS',\n",
       " 'IU.YAK',\n",
       " 'IU.YSS',\n",
       " 'NZ.ODZ',\n",
       " 'NZ.OUZ']"
      ]
     },
     "execution_count": 26,
     "metadata": {},
     "output_type": "execute_result"
    }
   ],
   "source": [
    "ds.waveforms.list()"
   ]
  },
  {
   "cell_type": "code",
   "execution_count": 32,
   "metadata": {},
   "outputs": [
    {
     "name": "stdout",
     "output_type": "stream",
     "text": [
      "Inventory created at 2014-12-10T17:04:46.000000Z\n",
      "\tCreated by: IRIS WEB SERVICE: fdsnws-station | version: 1.1.9\n",
      "\t\t    http://service.iris.edu/fdsnws/station/1/query?network=CN&level=res...\n",
      "\tSending institution: IRIS-DMC (IRIS-DMC)\n",
      "\tContains:\n",
      "\t\tNetworks (1):\n",
      "\t\t\tCN\n",
      "\t\tStations (1):\n",
      "\t\t\tCN.WHY (WHITEHORSE, YT)\n",
      "\t\tChannels (3):\n",
      "\t\t\tCN.WHY..BHZ, CN.WHY..BHN, CN.WHY..BHE\n"
     ]
    }
   ],
   "source": [
    "print(ds.waveforms.CN_WHY.StationXML)"
   ]
  },
  {
   "cell_type": "code",
   "execution_count": 33,
   "metadata": {},
   "outputs": [
    {
     "name": "stdout",
     "output_type": "stream",
     "text": [
      "3 Trace(s) in Stream:\n",
      "CN.WHY.S3.MXE | 1998-09-01T10:29:52.250000Z - 1998-09-01T12:10:19.857557Z | 7.0 Hz, 42300 samples\n",
      "CN.WHY.S3.MXN | 1998-09-01T10:29:52.250000Z - 1998-09-01T12:10:19.857557Z | 7.0 Hz, 42300 samples\n",
      "CN.WHY.S3.MXZ | 1998-09-01T10:29:52.250000Z - 1998-09-01T12:10:19.857557Z | 7.0 Hz, 42300 samples\n"
     ]
    }
   ],
   "source": [
    "print(ds.waveforms.CN_WHY.synthetic)"
   ]
  },
  {
   "cell_type": "code",
   "execution_count": 34,
   "metadata": {},
   "outputs": [
    {
     "name": "stdout",
     "output_type": "stream",
     "text": [
      "CN.WHY.S3.MXN | 1998-09-01T10:29:52.250000Z - 1998-09-01T12:10:19.857557Z | 7.0 Hz, 42300 samples\n"
     ]
    }
   ],
   "source": [
    "print(ds.waveforms.CN_WHY.synthetic[1])"
   ]
  },
  {
   "cell_type": "code",
   "execution_count": 36,
   "metadata": {},
   "outputs": [
    {
     "data": {
      "text/plain": [
       "pyasdf.utils.WaveformAccessor"
      ]
     },
     "execution_count": 36,
     "metadata": {},
     "output_type": "execute_result"
    }
   ],
   "source": [
    "sta  = ds.waveforms[\"CN.WHY\"]\n",
    "type(sta)"
   ]
  },
  {
   "cell_type": "code",
   "execution_count": 38,
   "metadata": {},
   "outputs": [
    {
     "data": {
      "text/plain": [
       "Auxiliary Data of Type 'AdjointSource'\n",
       "\tPath: 'BW_ALFO_EHE'\n",
       "\tProvenance ID: '{http://seisprov.org/seis_prov/0.1/#}sp012_as_cd84e87'\n",
       "\tData shape: '(20000,)', dtype: 'float64'\n",
       "\tParameters:\n",
       "\t\tadjoint_source_type: multitaper\n",
       "\t\televation_in_m: 473.232036071\n",
       "\t\tlatitude: 57.9589770294\n",
       "\t\tlocal_depth_in_m: 0.0\n",
       "\t\tlongitude: 170.352381909\n",
       "\t\tmisfit_value: 1.45e-05\n",
       "\t\torientation: E\n",
       "\t\tsampling_rate_in_hz: 10.0\n",
       "\t\tstation_id: BW.ALFO..EHE\n",
       "\t\tunits: m"
      ]
     },
     "execution_count": 38,
     "metadata": {},
     "output_type": "execute_result"
    }
   ],
   "source": [
    "adj_src = ds.auxiliary_data.AdjointSource.BW_ALFO_EHE\n",
    "adj_src"
   ]
  },
  {
   "cell_type": "code",
   "execution_count": 42,
   "metadata": {},
   "outputs": [
    {
     "data": {
      "text/plain": [
       "<HDF5 dataset \"BW_ALFO_EHE\": shape (20000,), type \"<f8\">"
      ]
     },
     "execution_count": 42,
     "metadata": {},
     "output_type": "execute_result"
    }
   ],
   "source": [
    "data = adj_src.data\n",
    "data"
   ]
  },
  {
   "cell_type": "code",
   "execution_count": null,
   "metadata": {},
   "outputs": [],
   "source": []
  }
 ],
 "metadata": {
  "kernelspec": {
   "display_name": "Python 3",
   "language": "python",
   "name": "python3"
  },
  "language_info": {
   "codemirror_mode": {
    "name": "ipython",
    "version": 3
   },
   "file_extension": ".py",
   "mimetype": "text/x-python",
   "name": "python",
   "nbconvert_exporter": "python",
   "pygments_lexer": "ipython3",
   "version": "3.8.6"
  }
 },
 "nbformat": 4,
 "nbformat_minor": 4
}
